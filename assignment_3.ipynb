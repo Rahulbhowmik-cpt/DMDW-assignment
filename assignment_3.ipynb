{
  "nbformat": 4,
  "nbformat_minor": 0,
  "metadata": {
    "colab": {
      "name": "Copy of Lab Assignment 3.ipynb",
      "provenance": [],
      "include_colab_link": true
    },
    "kernelspec": {
      "name": "python3",
      "display_name": "Python 3"
    },
    "language_info": {
      "name": "python"
    }
  },
  "cells": [
    {
      "cell_type": "markdown",
      "metadata": {
        "id": "view-in-github",
        "colab_type": "text"
      },
      "source": [
        "<a href=\"https://colab.research.google.com/github/Rahulbhowmik-cpt/DMDW-assignment/blob/main/assignment_3.ipynb\" target=\"_parent\"><img src=\"https://colab.research.google.com/assets/colab-badge.svg\" alt=\"Open In Colab\"/></a>"
      ]
    },
    {
      "cell_type": "code",
      "metadata": {
        "id": "ENyy5BvE05Xs"
      },
      "source": [
        " from numpy import *"
      ],
      "execution_count": 2,
      "outputs": []
    },
    {
      "cell_type": "code",
      "metadata": {
        "id": "bkgHYxwulImI"
      },
      "source": [
        "X=[7.8,8.2,8.7,9.2,9.5]\n",
        "Y=[3,3.2,3.8,4.1,4.4]"
      ],
      "execution_count": 3,
      "outputs": []
    },
    {
      "cell_type": "markdown",
      "metadata": {
        "id": "1J4ubZX4YpRo"
      },
      "source": [
        "#Variance using Library Function"
      ]
    },
    {
      "cell_type": "code",
      "metadata": {
        "id": "repioPQslXIf",
        "colab": {
          "base_uri": "https://localhost:8080/"
        },
        "outputId": "fc4d641b-9455-4f3d-a2f7-5d21e5cc6a51"
      },
      "source": [
        "print(\"Variance of X=\", var(X))\n",
        "print(\"Variance of Y=\", var(Y))"
      ],
      "execution_count": 4,
      "outputs": [
        {
          "output_type": "stream",
          "name": "stdout",
          "text": [
            "Variance of X= 0.38960000000000006\n",
            "Variance of Y= 0.27999999999999997\n"
          ]
        }
      ]
    },
    {
      "cell_type": "markdown",
      "metadata": {
        "id": "F2YS4-pxY1GP"
      },
      "source": [
        "#Variance without using library function"
      ]
    },
    {
      "cell_type": "code",
      "metadata": {
        "id": "hmk7AzRml0Rt",
        "colab": {
          "base_uri": "https://localhost:8080/"
        },
        "outputId": "90dc81dc-c17a-47a5-ebf7-8fdcbca20382"
      },
      "source": [
        "m= sum(X)/len(X)\n",
        "res1= sum((i-m)**2 for i in X)/len(X)\n",
        "n= sum(Y)/len(Y)\n",
        "res2= sum((i-n)**2 for i in Y)/len(Y)\n",
        "print(\"Variance of X=\", str(res1))\n",
        "print(\"Variance of Y=\", str(res2))"
      ],
      "execution_count": 5,
      "outputs": [
        {
          "output_type": "stream",
          "name": "stdout",
          "text": [
            "Variance of X= 0.38960000000000006\n",
            "Variance of Y= 0.27999999999999997\n"
          ]
        },
        {
          "output_type": "stream",
          "name": "stderr",
          "text": [
            "/usr/local/lib/python3.7/dist-packages/ipykernel_launcher.py:2: DeprecationWarning: Calling np.sum(generator) is deprecated, and in the future will give a different result. Use np.sum(np.fromiter(generator)) or the python sum builtin instead.\n",
            "  \n",
            "/usr/local/lib/python3.7/dist-packages/ipykernel_launcher.py:4: DeprecationWarning: Calling np.sum(generator) is deprecated, and in the future will give a different result. Use np.sum(np.fromiter(generator)) or the python sum builtin instead.\n",
            "  after removing the cwd from sys.path.\n"
          ]
        }
      ]
    },
    {
      "cell_type": "markdown",
      "metadata": {
        "id": "eyE8cHA1Y_3P"
      },
      "source": [
        "#Covariance without using library function"
      ]
    },
    {
      "cell_type": "code",
      "metadata": {
        "id": "gWXP78CipRo9",
        "colab": {
          "base_uri": "https://localhost:8080/"
        },
        "outputId": "0527ac6f-1124-4901-88e3-ecef7f73960f"
      },
      "source": [
        "res= sum((X[i]-m)*(Y[i]-n) for i in range(len(X)))/len(Y)\n",
        "print(\"Covariance=\",res)"
      ],
      "execution_count": 6,
      "outputs": [
        {
          "output_type": "stream",
          "name": "stdout",
          "text": [
            "Covariance= 0.328\n"
          ]
        },
        {
          "output_type": "stream",
          "name": "stderr",
          "text": [
            "/usr/local/lib/python3.7/dist-packages/ipykernel_launcher.py:1: DeprecationWarning: Calling np.sum(generator) is deprecated, and in the future will give a different result. Use np.sum(np.fromiter(generator)) or the python sum builtin instead.\n",
            "  \"\"\"Entry point for launching an IPython kernel.\n"
          ]
        }
      ]
    },
    {
      "cell_type": "markdown",
      "metadata": {
        "id": "SLhYKIcMZISP"
      },
      "source": [
        "#Covariance using library function"
      ]
    },
    {
      "cell_type": "code",
      "metadata": {
        "id": "zhPkcESgqbrq",
        "colab": {
          "base_uri": "https://localhost:8080/"
        },
        "outputId": "2599965b-15c1-4267-dfb9-cfec5299349c"
      },
      "source": [
        "print(\"Covariance =\",cov(X,Y))"
      ],
      "execution_count": 7,
      "outputs": [
        {
          "output_type": "stream",
          "name": "stdout",
          "text": [
            "Covariance = [[0.487 0.41 ]\n",
            " [0.41  0.35 ]]\n"
          ]
        }
      ]
    },
    {
      "cell_type": "markdown",
      "metadata": {
        "id": "3O0TSPH9ZYEw"
      },
      "source": [
        "#Correlation without using library function"
      ]
    },
    {
      "cell_type": "code",
      "metadata": {
        "id": "hgfUAxAnte6K",
        "colab": {
          "base_uri": "https://localhost:8080/"
        },
        "outputId": "205fb182-7200-4343-f389-a6648b7fd228"
      },
      "source": [
        "print(\"Correlation=\",(res/((res1*res2)**0.5)))"
      ],
      "execution_count": 9,
      "outputs": [
        {
          "output_type": "stream",
          "name": "stdout",
          "text": [
            "Correlation= 0.9930825573330169\n"
          ]
        }
      ]
    },
    {
      "cell_type": "markdown",
      "metadata": {
        "id": "7CqAMfYHZd_3"
      },
      "source": [
        "#Correlation matrix using library function"
      ]
    },
    {
      "cell_type": "code",
      "metadata": {
        "id": "2mVjIEC-wp0p",
        "colab": {
          "base_uri": "https://localhost:8080/"
        },
        "outputId": "d094fbce-3050-4609-d8ad-843a82772041"
      },
      "source": [
        "print(corrcoef(X,Y))"
      ],
      "execution_count": 10,
      "outputs": [
        {
          "output_type": "stream",
          "name": "stdout",
          "text": [
            "[[1.         0.99308256]\n",
            " [0.99308256 1.        ]]\n"
          ]
        }
      ]
    }
  ]
}