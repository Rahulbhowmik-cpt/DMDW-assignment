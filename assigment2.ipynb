{
  "nbformat": 4,
  "nbformat_minor": 0,
  "metadata": {
    "colab": {
      "name": "Untitled3.ipynb",
      "provenance": [],
      "authorship_tag": "ABX9TyP/HB428pydi6Iz38miIryc",
      "include_colab_link": true
    },
    "kernelspec": {
      "name": "python3",
      "display_name": "Python 3"
    },
    "language_info": {
      "name": "python"
    }
  },
  "cells": [
    {
      "cell_type": "markdown",
      "metadata": {
        "id": "view-in-github",
        "colab_type": "text"
      },
      "source": [
        "<a href=\"https://colab.research.google.com/github/Rahulbhowmik-cpt/DMDW-assignment/blob/main/assigment2.ipynb\" target=\"_parent\"><img src=\"https://colab.research.google.com/assets/colab-badge.svg\" alt=\"Open In Colab\"/></a>"
      ]
    },
    {
      "cell_type": "markdown",
      "metadata": {
        "id": "wern8QpIMFbU"
      },
      "source": [
        "Assignment - 2\n",
        "Execute and explain 10 most used commands in numpy\n",
        "and 5 most used commands in Pandas"
      ]
    },
    {
      "cell_type": "markdown",
      "metadata": {
        "id": "8ZLbySonMJD7"
      },
      "source": [
        "10 commands of numpy"
      ]
    },
    {
      "cell_type": "markdown",
      "metadata": {
        "id": "iht0CgZdMZsz"
      },
      "source": [
        "1.Array"
      ]
    },
    {
      "cell_type": "code",
      "metadata": {
        "colab": {
          "base_uri": "https://localhost:8080/"
        },
        "id": "8CQngcsJMNDD",
        "outputId": "65b8ce6c-8345-4e25-dcf4-c0264c0b6576"
      },
      "source": [
        "import numpy as np\n",
        "arr=np.array([1,2,3,4])\n",
        "print(arr)\n",
        "print(type(arr))"
      ],
      "execution_count": 2,
      "outputs": [
        {
          "output_type": "stream",
          "name": "stdout",
          "text": [
            "[1 2 3 4]\n",
            "<class 'numpy.ndarray'>\n"
          ]
        }
      ]
    },
    {
      "cell_type": "markdown",
      "metadata": {
        "id": "arcydhkNM70z"
      },
      "source": [
        "2.empty()"
      ]
    },
    {
      "cell_type": "code",
      "metadata": {
        "colab": {
          "base_uri": "https://localhost:8080/"
        },
        "id": "uMwSFuEPM_Si",
        "outputId": "b7cfa0fe-b053-4c7e-d4a8-e1fa8972bb14"
      },
      "source": [
        "import numpy as np\n",
        "arr=np.empty([2,2])\n",
        "print(arr)"
      ],
      "execution_count": 3,
      "outputs": [
        {
          "output_type": "stream",
          "name": "stdout",
          "text": [
            "[[1. 1.]\n",
            " [1. 0.]]\n"
          ]
        }
      ]
    },
    {
      "cell_type": "markdown",
      "metadata": {
        "id": "u-Df8tkcNXVT"
      },
      "source": [
        "3.zeros()"
      ]
    },
    {
      "cell_type": "code",
      "metadata": {
        "colab": {
          "base_uri": "https://localhost:8080/"
        },
        "id": "gKKg4JK6NaES",
        "outputId": "01287ada-aeea-4e5b-be1d-28e2ebfa45fd"
      },
      "source": [
        "import numpy as np\n",
        "arr=np.zeros(2,dtype=int)\n",
        "print(arr)"
      ],
      "execution_count": 6,
      "outputs": [
        {
          "output_type": "stream",
          "name": "stdout",
          "text": [
            "[0 0]\n"
          ]
        }
      ]
    },
    {
      "cell_type": "markdown",
      "metadata": {
        "id": "3fR-7DewNsBq"
      },
      "source": [
        "4.ones()"
      ]
    },
    {
      "cell_type": "code",
      "metadata": {
        "colab": {
          "base_uri": "https://localhost:8080/"
        },
        "id": "xlSmsX-RNuFa",
        "outputId": "4e29681a-f12e-499f-ada7-03c4776faeb2"
      },
      "source": [
        "import numpy as np\n",
        "arr=np.ones([2,2],dtype=int)\n",
        "print(arr)"
      ],
      "execution_count": 7,
      "outputs": [
        {
          "output_type": "stream",
          "name": "stdout",
          "text": [
            "[[1 1]\n",
            " [1 1]]\n"
          ]
        }
      ]
    },
    {
      "cell_type": "markdown",
      "metadata": {
        "id": "39z_iUD4N31y"
      },
      "source": [
        "5.vstack"
      ]
    },
    {
      "cell_type": "code",
      "metadata": {
        "colab": {
          "base_uri": "https://localhost:8080/"
        },
        "id": "-oubd2teOJCZ",
        "outputId": "39f7cc16-8bd9-4344-c307-cb92e7772021"
      },
      "source": [
        "x=np.array([3,5,7])\n",
        "y=np.array([5,7,9])\n",
        "print(np.vstack((x,y)))"
      ],
      "execution_count": 8,
      "outputs": [
        {
          "output_type": "stream",
          "name": "stdout",
          "text": [
            "[[3 5 7]\n",
            " [5 7 9]]\n"
          ]
        }
      ]
    },
    {
      "cell_type": "markdown",
      "metadata": {
        "id": "MbW7SZX2Ogua"
      },
      "source": [
        "6.hstack"
      ]
    },
    {
      "cell_type": "code",
      "metadata": {
        "colab": {
          "base_uri": "https://localhost:8080/"
        },
        "id": "SERzwH_lOkfK",
        "outputId": "b5650dd6-3003-46a8-892f-a9869b6f2f6f"
      },
      "source": [
        "x=np.array([3,5,7])\n",
        "y=np.array([5,7,9])\n",
        "print(np.hstack((x,y)))"
      ],
      "execution_count": 9,
      "outputs": [
        {
          "output_type": "stream",
          "name": "stdout",
          "text": [
            "[3 5 7 5 7 9]\n"
          ]
        }
      ]
    },
    {
      "cell_type": "markdown",
      "metadata": {
        "id": "-FzmhIqIOthq"
      },
      "source": [
        "7.Indexing "
      ]
    },
    {
      "cell_type": "code",
      "metadata": {
        "colab": {
          "base_uri": "https://localhost:8080/"
        },
        "id": "8fSNOAWNOxJa",
        "outputId": "cebc03b1-2432-40bd-f59b-d7563d0e34db"
      },
      "source": [
        "a=np.array([1,2,3,6,9])\n",
        "print(a[3])"
      ],
      "execution_count": 12,
      "outputs": [
        {
          "output_type": "stream",
          "name": "stdout",
          "text": [
            "6\n"
          ]
        }
      ]
    },
    {
      "cell_type": "markdown",
      "metadata": {
        "id": "Sw36_Yd3PB5h"
      },
      "source": [
        "8.Slicing"
      ]
    },
    {
      "cell_type": "code",
      "metadata": {
        "colab": {
          "base_uri": "https://localhost:8080/"
        },
        "id": "PsHVViPRPFqj",
        "outputId": "f9d56f49-fc63-4337-f3de-7ac7fc8455ac"
      },
      "source": [
        "a=np.array([1,2,3,6,9])\n",
        "print(a[1:3])"
      ],
      "execution_count": 13,
      "outputs": [
        {
          "output_type": "stream",
          "name": "stdout",
          "text": [
            "[2 3]\n"
          ]
        }
      ]
    },
    {
      "cell_type": "markdown",
      "metadata": {
        "id": "N6eqFm0uPQd4"
      },
      "source": [
        "9.shape"
      ]
    },
    {
      "cell_type": "code",
      "metadata": {
        "colab": {
          "base_uri": "https://localhost:8080/"
        },
        "id": "Z7dRPHn5PVsg",
        "outputId": "0488bd91-2341-46af-c760-eb441b33e8c8"
      },
      "source": [
        "x = np.array([ [67, 63, 87],\n",
        "               [77, 69, 59],\n",
        "               [85, 87, 99],\n",
        "               [79, 72, 71],\n",
        "               [63, 89, 93],\n",
        "               [68, 92, 78]])\n",
        "\n",
        "print(np.shape(x))"
      ],
      "execution_count": 16,
      "outputs": [
        {
          "output_type": "stream",
          "name": "stdout",
          "text": [
            "(6, 3)\n"
          ]
        }
      ]
    },
    {
      "cell_type": "markdown",
      "metadata": {
        "id": "oDZ6XDnpQBci"
      },
      "source": [
        "10.Reshape"
      ]
    },
    {
      "cell_type": "code",
      "metadata": {
        "colab": {
          "base_uri": "https://localhost:8080/"
        },
        "id": "zdX7LfZQQEYr",
        "outputId": "a0f7c637-70ed-4033-c605-df2c1780a8ff"
      },
      "source": [
        "x = np.array([1,2,3,4,5,6,7,8])\n",
        "new=x.reshape(2,4)\n",
        "print(new)"
      ],
      "execution_count": 21,
      "outputs": [
        {
          "output_type": "stream",
          "name": "stdout",
          "text": [
            "[[1 2 3 4]\n",
            " [5 6 7 8]]\n"
          ]
        }
      ]
    },
    {
      "cell_type": "markdown",
      "metadata": {
        "id": "3mGYPBEuSeJi"
      },
      "source": [
        "5 commands of pandas"
      ]
    },
    {
      "cell_type": "markdown",
      "metadata": {
        "id": "U0LQw5cDSkVj"
      },
      "source": [
        "1.dataframe()"
      ]
    },
    {
      "cell_type": "code",
      "metadata": {
        "colab": {
          "base_uri": "https://localhost:8080/"
        },
        "id": "wqzI7lcGSpfR",
        "outputId": "77b3fea4-764f-4376-b89e-8c141b568864"
      },
      "source": [
        "import pandas as pd\n",
        "lst = [1,2,3]\n",
        "df = pd.DataFrame(lst)\n",
        "print(df)"
      ],
      "execution_count": 27,
      "outputs": [
        {
          "output_type": "stream",
          "name": "stdout",
          "text": [
            "   0\n",
            "0  1\n",
            "1  2\n",
            "2  3\n"
          ]
        }
      ]
    },
    {
      "cell_type": "markdown",
      "metadata": {
        "id": "0fQEfMErTxHn"
      },
      "source": [
        "2.head"
      ]
    },
    {
      "cell_type": "code",
      "metadata": {
        "colab": {
          "base_uri": "https://localhost:8080/"
        },
        "id": "k4tJo2k6T3LK",
        "outputId": "27bb6e91-e88b-444c-80a1-7386a40fca17"
      },
      "source": [
        "import pandas as pd\n",
        "i = pd.DataFrame({1,4,2,4,6})\n",
        "i.head()\n",
        "print(i.head(2))"
      ],
      "execution_count": 31,
      "outputs": [
        {
          "output_type": "stream",
          "name": "stdout",
          "text": [
            "   0\n",
            "0  1\n",
            "1  2\n"
          ]
        }
      ]
    },
    {
      "cell_type": "markdown",
      "metadata": {
        "id": "LJaK58uvUgYp"
      },
      "source": [
        "3.describe"
      ]
    },
    {
      "cell_type": "code",
      "metadata": {
        "colab": {
          "base_uri": "https://localhost:8080/"
        },
        "id": "pho5AeeZUi7h",
        "outputId": "5c812628-37c6-4ca2-dffe-8b99f26cd263"
      },
      "source": [
        "import pandas as pd\n",
        "i = pd.Series([1,4,2,4,6])\n",
        "i.describe()\n"
      ],
      "execution_count": 32,
      "outputs": [
        {
          "output_type": "execute_result",
          "data": {
            "text/plain": [
              "count    5.000000\n",
              "mean     3.400000\n",
              "std      1.949359\n",
              "min      1.000000\n",
              "25%      2.000000\n",
              "50%      4.000000\n",
              "75%      4.000000\n",
              "max      6.000000\n",
              "dtype: float64"
            ]
          },
          "metadata": {},
          "execution_count": 32
        }
      ]
    },
    {
      "cell_type": "markdown",
      "metadata": {
        "id": "Hq2WxKspUzKV"
      },
      "source": [
        "4.loc,iloc"
      ]
    },
    {
      "cell_type": "code",
      "metadata": {
        "colab": {
          "base_uri": "https://localhost:8080/"
        },
        "id": "BBmV-vM4U9I4",
        "outputId": "32d3268a-8096-45d3-b43c-da4d8e7686a1"
      },
      "source": [
        "import pandas as pd\n",
        "df = pd.DataFrame({'Weight':[45, 88, 56, 15, 71],\n",
        "                   'Name':['RAM', 'SITA', 'HANUMAN', 'LAXMAN', 'RAVAN'],\n",
        "                   'Age':[14, 25, 55, 8, 21]})\n",
        "index_ = ['Row_1', 'Row_2', 'Row_3', 'Row_4', 'Row_5']\n",
        "df.index = index_\n",
        "result = df.loc['Row_2', 'Name']\n",
        "print(result)\n",
        "result1=df.iloc[0]\n",
        "print(result1)\n",
        "\n"
      ],
      "execution_count": 35,
      "outputs": [
        {
          "output_type": "stream",
          "name": "stdout",
          "text": [
            "SITA\n",
            "Weight     45\n",
            "Name      RAM\n",
            "Age        14\n",
            "Name: Row_1, dtype: object\n"
          ]
        }
      ]
    }
  ]
}